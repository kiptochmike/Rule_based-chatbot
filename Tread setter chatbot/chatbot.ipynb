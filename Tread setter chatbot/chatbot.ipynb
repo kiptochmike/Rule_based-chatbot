{
 "cells": [
  {
   "cell_type": "markdown",
   "metadata": {},
   "source": [
    "### 1.1. Import Libraries and Load Data"
   ]
  },
  {
   "cell_type": "code",
   "execution_count": 8,
   "metadata": {},
   "outputs": [
    {
     "data": {
      "text/html": [
       "<div>\n",
       "<style scoped>\n",
       "    .dataframe tbody tr th:only-of-type {\n",
       "        vertical-align: middle;\n",
       "    }\n",
       "\n",
       "    .dataframe tbody tr th {\n",
       "        vertical-align: top;\n",
       "    }\n",
       "\n",
       "    .dataframe thead th {\n",
       "        text-align: right;\n",
       "    }\n",
       "</style>\n",
       "<table border=\"1\" class=\"dataframe\">\n",
       "  <thead>\n",
       "    <tr style=\"text-align: right;\">\n",
       "      <th></th>\n",
       "      <th>tyretype</th>\n",
       "      <th>stock</th>\n",
       "      <th>ProductName</th>\n",
       "      <th>productinfo</th>\n",
       "    </tr>\n",
       "  </thead>\n",
       "  <tbody>\n",
       "    <tr>\n",
       "      <th>0</th>\n",
       "      <td>type A</td>\n",
       "      <td>100</td>\n",
       "      <td>X</td>\n",
       "      <td>Durable all-season tyre with excellent grip</td>\n",
       "    </tr>\n",
       "    <tr>\n",
       "      <th>1</th>\n",
       "      <td>type B</td>\n",
       "      <td>30</td>\n",
       "      <td>Y</td>\n",
       "      <td>High-performance summer tyre with enhanced han...</td>\n",
       "    </tr>\n",
       "    <tr>\n",
       "      <th>2</th>\n",
       "      <td>type C</td>\n",
       "      <td>60</td>\n",
       "      <td>Z</td>\n",
       "      <td>Comfortable winter tyre with superior traction.</td>\n",
       "    </tr>\n",
       "    <tr>\n",
       "      <th>3</th>\n",
       "      <td>type A</td>\n",
       "      <td>70</td>\n",
       "      <td>Alpha</td>\n",
       "      <td>Premium all-terrain tyre designed for off-road...</td>\n",
       "    </tr>\n",
       "    <tr>\n",
       "      <th>4</th>\n",
       "      <td>type B</td>\n",
       "      <td>5</td>\n",
       "      <td>Beta</td>\n",
       "      <td>Affordable economy tyre with good longevity</td>\n",
       "    </tr>\n",
       "    <tr>\n",
       "      <th>5</th>\n",
       "      <td>type C</td>\n",
       "      <td>56</td>\n",
       "      <td>Gamma</td>\n",
       "      <td>All-weather tyre with enhanced safety features.</td>\n",
       "    </tr>\n",
       "    <tr>\n",
       "      <th>6</th>\n",
       "      <td>type A</td>\n",
       "      <td>55</td>\n",
       "      <td>Delta</td>\n",
       "      <td>High-quality tyre with long-lasting durability</td>\n",
       "    </tr>\n",
       "    <tr>\n",
       "      <th>7</th>\n",
       "      <td>type B</td>\n",
       "      <td>22</td>\n",
       "      <td>Theta</td>\n",
       "      <td>Tyre with improved fuel efficiency and comfort</td>\n",
       "    </tr>\n",
       "    <tr>\n",
       "      <th>8</th>\n",
       "      <td>type C</td>\n",
       "      <td>106</td>\n",
       "      <td>Bridgestone</td>\n",
       "      <td>Tyre with excellent wet grip and stability</td>\n",
       "    </tr>\n",
       "    <tr>\n",
       "      <th>9</th>\n",
       "      <td>type A</td>\n",
       "      <td>77</td>\n",
       "      <td>Labda</td>\n",
       "      <td>Tyre with advanced noise reduction technology.</td>\n",
       "    </tr>\n",
       "  </tbody>\n",
       "</table>\n",
       "</div>"
      ],
      "text/plain": [
       "  tyretype  stock  ProductName  \\\n",
       "0   type A    100            X   \n",
       "1   type B     30            Y   \n",
       "2   type C     60            Z   \n",
       "3   type A     70        Alpha   \n",
       "4   type B      5         Beta   \n",
       "5   type C     56        Gamma   \n",
       "6   type A     55        Delta   \n",
       "7   type B     22        Theta   \n",
       "8   type C    106  Bridgestone   \n",
       "9   type A     77        Labda   \n",
       "\n",
       "                                         productinfo  \n",
       "0        Durable all-season tyre with excellent grip  \n",
       "1  High-performance summer tyre with enhanced han...  \n",
       "2    Comfortable winter tyre with superior traction.  \n",
       "3  Premium all-terrain tyre designed for off-road...  \n",
       "4        Affordable economy tyre with good longevity  \n",
       "5    All-weather tyre with enhanced safety features.  \n",
       "6     High-quality tyre with long-lasting durability  \n",
       "7     Tyre with improved fuel efficiency and comfort  \n",
       "8         Tyre with excellent wet grip and stability  \n",
       "9     Tyre with advanced noise reduction technology.  "
      ]
     },
     "execution_count": 8,
     "metadata": {},
     "output_type": "execute_result"
    }
   ],
   "source": [
    "import pandas as pd\n",
    "\n",
    "# Load the dataset\n",
    "df = pd.read_csv('sales.csv')\n",
    "\n",
    "# Display the first few rows to confirm data loading\n",
    "df.head(10)\n"
   ]
  },
  {
   "cell_type": "code",
   "execution_count": 9,
   "metadata": {},
   "outputs": [
    {
     "name": "stdout",
     "output_type": "stream",
     "text": [
      "<class 'pandas.core.frame.DataFrame'>\n",
      "RangeIndex: 21 entries, 0 to 20\n",
      "Data columns (total 4 columns):\n",
      " #   Column       Non-Null Count  Dtype \n",
      "---  ------       --------------  ----- \n",
      " 0   tyretype     21 non-null     object\n",
      " 1   stock        21 non-null     int64 \n",
      " 2   ProductName  21 non-null     object\n",
      " 3   productinfo  21 non-null     object\n",
      "dtypes: int64(1), object(3)\n",
      "memory usage: 800.0+ bytes\n"
     ]
    }
   ],
   "source": [
    "df.info()"
   ]
  },
  {
   "cell_type": "markdown",
   "metadata": {},
   "source": [
    "### 1.2. Define Query Functions"
   ]
  },
  {
   "cell_type": "code",
   "execution_count": 2,
   "metadata": {},
   "outputs": [],
   "source": [
    "def get_tyres_stock(tyre_type):\n",
    "    if tyre_type and tyre_type in df['tyretype'].values:\n",
    "        result = df[df['tyretype'].str.lower() == tyre_type.lower()]\n",
    "        stock_sum = result['stock'].sum()\n",
    "        return int(stock_sum)  \n",
    "    else:\n",
    "        return \"No stock information available for the specified tyre type.\"\n",
    "\n",
    "\n",
    "\n",
    "def get_product_info(product_name):\n",
    "    if product_name:\n",
    "        result = df[df['ProductName'].str.lower() == product_name.lower()]\n",
    "        if not result.empty:\n",
    "            return result['productinfo'].values[0]\n",
    "    return \"Product not found.\"\n",
    "\n",
    "\n",
    "def extract_product_name(user_input):\n",
    "    products = df['ProductName'].unique()\n",
    "    for product in products:\n",
    "        if product.lower() in user_input.lower():\n",
    "            return product\n",
    "    return None\n",
    "\n",
    "def extract_tyre_type(user_input):\n",
    "    tyre_types = df['tyretype'].unique()\n",
    "    for tyre_type in tyre_types:\n",
    "        if tyre_type.lower() in user_input.lower():\n",
    "            return tyre_type\n",
    "    return None\n",
    "\n",
    "\n",
    "def handle_request(user_input):\n",
    "    user_input = user_input.lower()\n",
    "    \n",
    "    if \"stock\" in user_input:\n",
    "        tyre_type = extract_tyre_type(user_input)\n",
    "        stock = get_tyres_stock(tyre_type)\n",
    "        return str(stock)  \n",
    "    \n",
    "    elif \"productinfo\" in user_input:\n",
    "        product_name = extract_product_name(user_input)\n",
    "        return get_product_info(product_name)\n",
    "    \n",
    "    elif \"sales\" in user_input:\n",
    "        return \"How can I assist with your sales order? For example, check order status or process an order.\"\n",
    "    \n",
    "    else:\n",
    "        return \"Sorry, I didn't understand that. Can you please rephrase your question?\""
   ]
  },
  {
   "cell_type": "code",
   "execution_count": 3,
   "metadata": {},
   "outputs": [
    {
     "name": "stdout",
     "output_type": "stream",
     "text": [
      "492\n",
      "Sorry, I didn't understand that. Can you please rephrase your question?\n"
     ]
    }
   ],
   "source": [
    "# Test the functions with sample inputs\n",
    "print(handle_request(\"How many tyres of type A are in stock?\"))\n",
    "print(handle_request(\"Tell me about Product X\"))\n"
   ]
  }
 ],
 "metadata": {
  "kernelspec": {
   "display_name": "myenv",
   "language": "python",
   "name": "python3"
  },
  "language_info": {
   "codemirror_mode": {
    "name": "ipython",
    "version": 3
   },
   "file_extension": ".py",
   "mimetype": "text/x-python",
   "name": "python",
   "nbconvert_exporter": "python",
   "pygments_lexer": "ipython3",
   "version": "3.9.15"
  }
 },
 "nbformat": 4,
 "nbformat_minor": 2
}
